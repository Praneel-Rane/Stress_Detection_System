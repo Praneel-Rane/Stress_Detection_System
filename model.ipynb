{
 "cells": [
  {
   "cell_type": "code",
   "execution_count": 1,
   "metadata": {},
   "outputs": [],
   "source": [
    "import pandas as pd"
   ]
  },
  {
   "cell_type": "code",
   "execution_count": 2,
   "metadata": {},
   "outputs": [],
   "source": [
    "df = pd.read_csv('emotions.csv')"
   ]
  },
  {
   "cell_type": "code",
   "execution_count": 3,
   "metadata": {},
   "outputs": [
    {
     "name": "stdout",
     "output_type": "stream",
     "text": [
      "   # mean_0_a  mean_1_a  mean_2_a  mean_3_a  mean_4_a  mean_d_0_a  mean_d_1_a  \\\n",
      "0        4.62      30.3    -356.0      15.6      26.3       1.070       0.411   \n",
      "1       28.80      33.1      32.0      25.8      22.8       6.550       1.680   \n",
      "2        8.90      29.4    -416.0      16.7      23.7      79.900       3.360   \n",
      "3       14.90      31.6    -143.0      19.8      24.3      -0.584      -0.284   \n",
      "4       28.30      31.3      45.2      27.3      24.5      34.800      -5.790   \n",
      "\n",
      "   mean_d_2_a  mean_d_3_a  mean_d_4_a  ...  fft_741_b  fft_742_b  fft_743_b  \\\n",
      "0      -15.70        2.06        3.15  ...       23.5       20.3       20.3   \n",
      "1        2.88        3.83       -4.82  ...      -23.3      -21.8      -21.8   \n",
      "2       90.20       89.90        2.03  ...      462.0     -233.0     -233.0   \n",
      "3        8.82        2.30       -1.97  ...      299.0     -243.0     -243.0   \n",
      "4        3.06       41.40        5.52  ...       12.0       38.1       38.1   \n",
      "\n",
      "   fft_744_b  fft_745_b  fft_746_b  fft_747_b  fft_748_b  fft_749_b     label  \n",
      "0       23.5     -215.0     280.00    -162.00    -162.00     280.00  NEGATIVE  \n",
      "1      -23.3      182.0       2.57     -31.60     -31.60       2.57   NEUTRAL  \n",
      "2      462.0     -267.0     281.00    -148.00    -148.00     281.00  POSITIVE  \n",
      "3      299.0      132.0     -12.40       9.53       9.53     -12.40  POSITIVE  \n",
      "4       12.0      119.0     -17.60      23.90      23.90     -17.60   NEUTRAL  \n",
      "\n",
      "[5 rows x 2549 columns]\n"
     ]
    }
   ],
   "source": [
    "print(df.head())"
   ]
  },
  {
   "cell_type": "code",
   "execution_count": 4,
   "metadata": {},
   "outputs": [
    {
     "name": "stdout",
     "output_type": "stream",
     "text": [
      "# mean_0_a    0\n",
      "mean_1_a      0\n",
      "mean_2_a      0\n",
      "mean_3_a      0\n",
      "mean_4_a      0\n",
      "             ..\n",
      "fft_746_b     0\n",
      "fft_747_b     0\n",
      "fft_748_b     0\n",
      "fft_749_b     0\n",
      "label         0\n",
      "Length: 2549, dtype: int64\n"
     ]
    }
   ],
   "source": [
    "print(df.isnull().sum())"
   ]
  },
  {
   "cell_type": "code",
   "execution_count": 5,
   "metadata": {},
   "outputs": [
    {
     "name": "stdout",
     "output_type": "stream",
     "text": [
      "# mean_0_a    float64\n",
      "mean_1_a      float64\n",
      "mean_2_a      float64\n",
      "mean_3_a      float64\n",
      "mean_4_a      float64\n",
      "               ...   \n",
      "fft_746_b     float64\n",
      "fft_747_b     float64\n",
      "fft_748_b     float64\n",
      "fft_749_b     float64\n",
      "label          object\n",
      "Length: 2549, dtype: object\n"
     ]
    }
   ],
   "source": [
    "print(df.dtypes)"
   ]
  },
  {
   "cell_type": "code",
   "execution_count": 6,
   "metadata": {},
   "outputs": [
    {
     "name": "stdout",
     "output_type": "stream",
     "text": [
      "        # mean_0_a     mean_1_a     mean_2_a     mean_3_a     mean_4_a  \\\n",
      "count  2132.000000  2132.000000  2132.000000  2132.000000  2132.000000   \n",
      "mean     15.256914    27.012462  -104.975629    13.605898    24.150483   \n",
      "std      15.284621     9.265141   206.271960    16.874676    14.187340   \n",
      "min     -61.300000  -114.000000  -970.000000  -137.000000  -217.000000   \n",
      "25%       6.577500    26.075000  -195.000000     4.857500    23.600000   \n",
      "50%      14.100000    30.000000    14.950000    15.400000    25.200000   \n",
      "75%      27.700000    31.400000    29.600000    26.500000    26.800000   \n",
      "max     304.000000    42.300000   661.000000   206.000000   213.000000   \n",
      "\n",
      "        mean_d_0_a   mean_d_1_a   mean_d_2_a   mean_d_3_a   mean_d_4_a  ...  \\\n",
      "count  2132.000000  2132.000000  2132.000000  2132.000000  2132.000000  ...   \n",
      "mean      0.025378     0.052282     0.301655     0.036793     0.083567  ...   \n",
      "std      17.981796     8.509174    68.098894    17.010031    18.935378  ...   \n",
      "min    -218.000000  -255.000000 -1360.000000  -203.000000  -553.000000  ...   \n",
      "25%      -3.105000    -1.340000    -4.002500    -2.905000    -2.622500  ...   \n",
      "50%      -0.044600     0.132000     0.957500    -0.099750     0.146500  ...   \n",
      "75%       2.920000     1.540000     6.735000     2.535000     2.870000  ...   \n",
      "max     402.000000   257.000000  1150.000000   349.000000   444.000000  ...   \n",
      "\n",
      "         fft_740_b    fft_741_b    fft_742_b    fft_743_b    fft_744_b  \\\n",
      "count  2132.000000  2132.000000  2132.000000  2132.000000  2132.000000   \n",
      "mean    -22.938971   104.946111   -51.973647   -51.973647   104.946111   \n",
      "std     298.034311   212.532721   112.160233   112.160233   212.532721   \n",
      "min   -1180.000000  -921.000000  -504.000000  -504.000000  -921.000000   \n",
      "25%    -106.500000    -8.365000   -92.900000   -92.900000    -8.365000   \n",
      "50%      83.850000    12.150000   -21.800000   -21.800000    12.150000   \n",
      "75%     154.000000   177.000000    12.025000    12.025000   177.000000   \n",
      "max    1070.000000   843.000000  1490.000000  1490.000000   843.000000   \n",
      "\n",
      "         fft_745_b    fft_746_b    fft_747_b    fft_748_b    fft_749_b  \n",
      "count  2132.000000  2132.000000  2132.000000  2132.000000  2132.000000  \n",
      "mean     -6.934144    95.104886   -49.061255   -49.061255    95.104886  \n",
      "std     281.040552   203.194976   106.486317   106.486317   203.194976  \n",
      "min   -1160.000000 -1010.000000  -521.000000  -521.000000 -1010.000000  \n",
      "25%    -102.500000    -8.837500   -87.150000   -87.150000    -8.837500  \n",
      "50%      89.700000    13.400000   -24.100000   -24.100000    13.400000  \n",
      "75%     153.000000   149.250000    10.925000    10.925000   149.250000  \n",
      "max    1180.000000   888.000000  1670.000000  1670.000000   888.000000  \n",
      "\n",
      "[8 rows x 2548 columns]\n"
     ]
    }
   ],
   "source": [
    "print(df.describe())"
   ]
  },
  {
   "cell_type": "code",
   "execution_count": 7,
   "metadata": {},
   "outputs": [],
   "source": [
    "df['emotion'] = df['label'].map({'NEGATIVE': 1, 'NEUTRAL': 0, 'POSITIVE': 0})"
   ]
  },
  {
   "cell_type": "code",
   "execution_count": 8,
   "metadata": {},
   "outputs": [
    {
     "name": "stdout",
     "output_type": "stream",
     "text": [
      "emotion\n",
      "0    1424\n",
      "1     708\n",
      "Name: count, dtype: int64\n"
     ]
    }
   ],
   "source": [
    "print(df['emotion'].value_counts())"
   ]
  },
  {
   "cell_type": "code",
   "execution_count": 9,
   "metadata": {},
   "outputs": [],
   "source": [
    "df = df.dropna()"
   ]
  },
  {
   "cell_type": "code",
   "execution_count": 10,
   "metadata": {},
   "outputs": [
    {
     "name": "stdout",
     "output_type": "stream",
     "text": [
      "   # mean_0_a  mean_1_a  mean_2_a  mean_3_a  mean_4_a  mean_d_0_a  mean_d_1_a  \\\n",
      "0        4.62      30.3    -356.0      15.6      26.3       1.070       0.411   \n",
      "1       28.80      33.1      32.0      25.8      22.8       6.550       1.680   \n",
      "2        8.90      29.4    -416.0      16.7      23.7      79.900       3.360   \n",
      "3       14.90      31.6    -143.0      19.8      24.3      -0.584      -0.284   \n",
      "4       28.30      31.3      45.2      27.3      24.5      34.800      -5.790   \n",
      "\n",
      "   mean_d_2_a  mean_d_3_a  mean_d_4_a  ...  fft_742_b  fft_743_b  fft_744_b  \\\n",
      "0      -15.70        2.06        3.15  ...       20.3       20.3       23.5   \n",
      "1        2.88        3.83       -4.82  ...      -21.8      -21.8      -23.3   \n",
      "2       90.20       89.90        2.03  ...     -233.0     -233.0      462.0   \n",
      "3        8.82        2.30       -1.97  ...     -243.0     -243.0      299.0   \n",
      "4        3.06       41.40        5.52  ...       38.1       38.1       12.0   \n",
      "\n",
      "   fft_745_b  fft_746_b  fft_747_b  fft_748_b  fft_749_b     label  emotion  \n",
      "0     -215.0     280.00    -162.00    -162.00     280.00  NEGATIVE        1  \n",
      "1      182.0       2.57     -31.60     -31.60       2.57   NEUTRAL        0  \n",
      "2     -267.0     281.00    -148.00    -148.00     281.00  POSITIVE        0  \n",
      "3      132.0     -12.40       9.53       9.53     -12.40  POSITIVE        0  \n",
      "4      119.0     -17.60      23.90      23.90     -17.60   NEUTRAL        0  \n",
      "\n",
      "[5 rows x 2550 columns]\n"
     ]
    }
   ],
   "source": [
    "print(df.head())"
   ]
  },
  {
   "cell_type": "code",
   "execution_count": 13,
   "metadata": {},
   "outputs": [],
   "source": [
    "mean_columns = [col for col in df.columns if 'mean_' in col]\n",
    "fft_columns = [col for col in df.columns if 'fft_' in col]"
   ]
  },
  {
   "cell_type": "code",
   "execution_count": 14,
   "metadata": {},
   "outputs": [
    {
     "name": "stdout",
     "output_type": "stream",
     "text": [
      "Mean features: 120\n",
      "FFT features: 1500\n"
     ]
    }
   ],
   "source": [
    "print(f\"Mean features: {len(mean_columns)}\")\n",
    "print(f\"FFT features: {len(fft_columns)}\")"
   ]
  },
  {
   "cell_type": "code",
   "execution_count": 15,
   "metadata": {},
   "outputs": [
    {
     "name": "stdout",
     "output_type": "stream",
     "text": [
      "        # mean_0_a     mean_1_a     mean_2_a     mean_3_a     mean_4_a  \\\n",
      "count  2132.000000  2132.000000  2132.000000  2132.000000  2132.000000   \n",
      "mean     15.256914    27.012462  -104.975629    13.605898    24.150483   \n",
      "std      15.284621     9.265141   206.271960    16.874676    14.187340   \n",
      "min     -61.300000  -114.000000  -970.000000  -137.000000  -217.000000   \n",
      "25%       6.577500    26.075000  -195.000000     4.857500    23.600000   \n",
      "50%      14.100000    30.000000    14.950000    15.400000    25.200000   \n",
      "75%      27.700000    31.400000    29.600000    26.500000    26.800000   \n",
      "max     304.000000    42.300000   661.000000   206.000000   213.000000   \n",
      "\n",
      "        mean_d_0_a   mean_d_1_a   mean_d_2_a   mean_d_3_a   mean_d_4_a  ...  \\\n",
      "count  2132.000000  2132.000000  2132.000000  2132.000000  2132.000000  ...   \n",
      "mean      0.025378     0.052282     0.301655     0.036793     0.083567  ...   \n",
      "std      17.981796     8.509174    68.098894    17.010031    18.935378  ...   \n",
      "min    -218.000000  -255.000000 -1360.000000  -203.000000  -553.000000  ...   \n",
      "25%      -3.105000    -1.340000    -4.002500    -2.905000    -2.622500  ...   \n",
      "50%      -0.044600     0.132000     0.957500    -0.099750     0.146500  ...   \n",
      "75%       2.920000     1.540000     6.735000     2.535000     2.870000  ...   \n",
      "max     402.000000   257.000000  1150.000000   349.000000   444.000000  ...   \n",
      "\n",
      "       mean_d_40_b  mean_d_41_b  mean_d_42_b  mean_d_43_b  mean_d_44_b  \\\n",
      "count  2132.000000  2132.000000  2132.000000  2132.000000  2132.000000   \n",
      "mean     -0.059928    -0.045859    -0.373711    -0.072613    -0.074880   \n",
      "std      25.943252    19.087225    79.063872    25.506761    16.826374   \n",
      "min    -585.000000  -703.000000 -1580.000000  -540.000000  -429.000000   \n",
      "25%      -3.770000    -2.070000    -8.620000    -3.500000    -4.042500   \n",
      "50%      -0.028150    -0.083350    -0.742500    -0.073300     0.069750   \n",
      "75%       3.845000     1.910000     6.030000     3.870000     3.890000   \n",
      "max     470.000000   382.000000  1190.000000   440.000000   412.000000   \n",
      "\n",
      "       mean_d_45_b  mean_d_46_b  mean_d_47_b  mean_d_48_b  mean_d_49_b  \n",
      "count  2132.000000  2132.000000  2132.000000  2132.000000  2132.000000  \n",
      "mean     -1.582325    -0.151823    -1.026620    -1.360049    -0.362487  \n",
      "std      26.551153    15.698378    56.703313    25.768743    18.507794  \n",
      "min    -461.000000  -648.000000 -1140.000000  -544.000000  -618.000000  \n",
      "25%      -3.852500    -1.870000    -8.232500    -3.440000    -4.987500  \n",
      "50%      -0.118000    -0.079950    -0.726000    -0.187500    -0.001750  \n",
      "75%       3.522500     1.622500     5.547500     3.362500     4.535000  \n",
      "max     179.000000   256.000000  1190.000000   164.000000   276.000000  \n",
      "\n",
      "[8 rows x 120 columns]\n"
     ]
    }
   ],
   "source": [
    "print(df[mean_columns].describe())"
   ]
  },
  {
   "cell_type": "code",
   "execution_count": 16,
   "metadata": {},
   "outputs": [
    {
     "name": "stdout",
     "output_type": "stream",
     "text": [
      "           fft_0_a      fft_1_a      fft_2_a      fft_3_a      fft_4_a  \\\n",
      "count  2132.000000  2132.000000  2132.000000  2132.000000  2132.000000   \n",
      "mean    -44.604091   117.710552   -60.980644   -60.980644   117.710552   \n",
      "std     282.142152   202.283028   103.110602   103.110602   202.283028   \n",
      "min   -1160.000000  -647.000000  -483.000000  -483.000000  -647.000000   \n",
      "25%    -173.000000    -6.012500  -107.250000  -107.250000    -6.012500   \n",
      "50%      72.250000    14.450000   -29.500000   -29.500000    14.450000   \n",
      "75%     140.000000   230.250000     5.867500     5.867500   230.250000   \n",
      "max     963.000000   885.000000   975.000000   975.000000   885.000000   \n",
      "\n",
      "           fft_5_a     fft_6_a      fft_7_a      fft_8_a     fft_9_a  ...  \\\n",
      "count  2132.000000  2132.00000  2132.000000  2132.000000  2132.00000  ...   \n",
      "mean    -20.491037   102.85674   -52.236236   -52.236236   102.85674  ...   \n",
      "std     303.720733   214.28104   115.767109   115.767109   214.28104  ...   \n",
      "min   -1290.000000 -1050.00000  -497.000000  -497.000000 -1050.00000  ...   \n",
      "25%    -120.250000   -10.60000   -97.100000   -97.100000   -10.60000  ...   \n",
      "50%      85.850000    10.70000   -21.200000   -21.200000    10.70000  ...   \n",
      "75%     154.000000   179.00000    13.000000    13.000000   179.00000  ...   \n",
      "max    1320.000000   904.00000  1800.000000  1800.000000   904.00000  ...   \n",
      "\n",
      "         fft_740_b    fft_741_b    fft_742_b    fft_743_b    fft_744_b  \\\n",
      "count  2132.000000  2132.000000  2132.000000  2132.000000  2132.000000   \n",
      "mean    -22.938971   104.946111   -51.973647   -51.973647   104.946111   \n",
      "std     298.034311   212.532721   112.160233   112.160233   212.532721   \n",
      "min   -1180.000000  -921.000000  -504.000000  -504.000000  -921.000000   \n",
      "25%    -106.500000    -8.365000   -92.900000   -92.900000    -8.365000   \n",
      "50%      83.850000    12.150000   -21.800000   -21.800000    12.150000   \n",
      "75%     154.000000   177.000000    12.025000    12.025000   177.000000   \n",
      "max    1070.000000   843.000000  1490.000000  1490.000000   843.000000   \n",
      "\n",
      "         fft_745_b    fft_746_b    fft_747_b    fft_748_b    fft_749_b  \n",
      "count  2132.000000  2132.000000  2132.000000  2132.000000  2132.000000  \n",
      "mean     -6.934144    95.104886   -49.061255   -49.061255    95.104886  \n",
      "std     281.040552   203.194976   106.486317   106.486317   203.194976  \n",
      "min   -1160.000000 -1010.000000  -521.000000  -521.000000 -1010.000000  \n",
      "25%    -102.500000    -8.837500   -87.150000   -87.150000    -8.837500  \n",
      "50%      89.700000    13.400000   -24.100000   -24.100000    13.400000  \n",
      "75%     153.000000   149.250000    10.925000    10.925000   149.250000  \n",
      "max    1180.000000   888.000000  1670.000000  1670.000000   888.000000  \n",
      "\n",
      "[8 rows x 1500 columns]\n"
     ]
    }
   ],
   "source": [
    "print(df[fft_columns].describe())"
   ]
  },
  {
   "cell_type": "code",
   "execution_count": 17,
   "metadata": {},
   "outputs": [],
   "source": [
    "from scipy.stats import skew, kurtosis"
   ]
  },
  {
   "cell_type": "code",
   "execution_count": 18,
   "metadata": {},
   "outputs": [],
   "source": [
    "df['skewness'] = df[mean_columns + fft_columns].apply(lambda x: skew(x, axis=0), axis=1)"
   ]
  },
  {
   "cell_type": "code",
   "execution_count": 19,
   "metadata": {},
   "outputs": [],
   "source": [
    "df['kurtosis'] = df[mean_columns + fft_columns].apply(lambda x: kurtosis(x, axis=0), axis=1)"
   ]
  },
  {
   "cell_type": "code",
   "execution_count": 20,
   "metadata": {},
   "outputs": [
    {
     "name": "stdout",
     "output_type": "stream",
     "text": [
      "   # mean_0_a  mean_1_a  mean_2_a  mean_3_a  mean_4_a  mean_d_0_a  mean_d_1_a  \\\n",
      "0        4.62      30.3    -356.0      15.6      26.3       1.070       0.411   \n",
      "1       28.80      33.1      32.0      25.8      22.8       6.550       1.680   \n",
      "2        8.90      29.4    -416.0      16.7      23.7      79.900       3.360   \n",
      "3       14.90      31.6    -143.0      19.8      24.3      -0.584      -0.284   \n",
      "4       28.30      31.3      45.2      27.3      24.5      34.800      -5.790   \n",
      "\n",
      "   mean_d_2_a  mean_d_3_a  mean_d_4_a  ...  fft_744_b  fft_745_b  fft_746_b  \\\n",
      "0      -15.70        2.06        3.15  ...       23.5     -215.0     280.00   \n",
      "1        2.88        3.83       -4.82  ...      -23.3      182.0       2.57   \n",
      "2       90.20       89.90        2.03  ...      462.0     -267.0     281.00   \n",
      "3        8.82        2.30       -1.97  ...      299.0      132.0     -12.40   \n",
      "4        3.06       41.40        5.52  ...       12.0      119.0     -17.60   \n",
      "\n",
      "   fft_747_b  fft_748_b  fft_749_b     label  emotion  skewness  kurtosis  \n",
      "0    -162.00    -162.00     280.00  NEGATIVE        1  0.051821 -0.685324  \n",
      "1     -31.60     -31.60       2.57   NEUTRAL        0  1.508543  1.294228  \n",
      "2    -148.00    -148.00     281.00  POSITIVE        0 -0.070566 -0.015952  \n",
      "3       9.53       9.53     -12.40  POSITIVE        0  0.081328  1.362297  \n",
      "4      23.90      23.90     -17.60   NEUTRAL        0  0.802684  1.787670  \n",
      "\n",
      "[5 rows x 2552 columns]\n"
     ]
    }
   ],
   "source": [
    "print(df.head())"
   ]
  },
  {
   "cell_type": "code",
   "execution_count": 21,
   "metadata": {},
   "outputs": [],
   "source": [
    "df = df.drop(columns=['skewness', 'kurtosis'])"
   ]
  },
  {
   "cell_type": "code",
   "execution_count": 22,
   "metadata": {},
   "outputs": [
    {
     "name": "stdout",
     "output_type": "stream",
     "text": [
      "   # mean_0_a  mean_1_a  mean_2_a  mean_3_a  mean_4_a  mean_d_0_a  mean_d_1_a  \\\n",
      "0        4.62      30.3    -356.0      15.6      26.3       1.070       0.411   \n",
      "1       28.80      33.1      32.0      25.8      22.8       6.550       1.680   \n",
      "2        8.90      29.4    -416.0      16.7      23.7      79.900       3.360   \n",
      "3       14.90      31.6    -143.0      19.8      24.3      -0.584      -0.284   \n",
      "4       28.30      31.3      45.2      27.3      24.5      34.800      -5.790   \n",
      "\n",
      "   mean_d_2_a  mean_d_3_a  mean_d_4_a  ...  fft_742_b  fft_743_b  fft_744_b  \\\n",
      "0      -15.70        2.06        3.15  ...       20.3       20.3       23.5   \n",
      "1        2.88        3.83       -4.82  ...      -21.8      -21.8      -23.3   \n",
      "2       90.20       89.90        2.03  ...     -233.0     -233.0      462.0   \n",
      "3        8.82        2.30       -1.97  ...     -243.0     -243.0      299.0   \n",
      "4        3.06       41.40        5.52  ...       38.1       38.1       12.0   \n",
      "\n",
      "   fft_745_b  fft_746_b  fft_747_b  fft_748_b  fft_749_b     label  emotion  \n",
      "0     -215.0     280.00    -162.00    -162.00     280.00  NEGATIVE        1  \n",
      "1      182.0       2.57     -31.60     -31.60       2.57   NEUTRAL        0  \n",
      "2     -267.0     281.00    -148.00    -148.00     281.00  POSITIVE        0  \n",
      "3      132.0     -12.40       9.53       9.53     -12.40  POSITIVE        0  \n",
      "4      119.0     -17.60      23.90      23.90     -17.60   NEUTRAL        0  \n",
      "\n",
      "[5 rows x 2550 columns]\n"
     ]
    }
   ],
   "source": [
    "print(df.head())"
   ]
  },
  {
   "cell_type": "code",
   "execution_count": 28,
   "metadata": {},
   "outputs": [],
   "source": [
    "skewness_values = {col: skew(df[col]) for col in mean_columns + fft_columns}"
   ]
  },
  {
   "cell_type": "code",
   "execution_count": 29,
   "metadata": {},
   "outputs": [],
   "source": [
    "kurtosis_values = {col: kurtosis(df[col]) for col in mean_columns + fft_columns}"
   ]
  },
  {
   "cell_type": "code",
   "execution_count": 30,
   "metadata": {},
   "outputs": [],
   "source": [
    "skewness_df = pd.DataFrame(skewness_values, index=['skewness']).T"
   ]
  },
  {
   "cell_type": "code",
   "execution_count": 31,
   "metadata": {},
   "outputs": [],
   "source": [
    "kurtosis_df = pd.DataFrame(kurtosis_values, index=['kurtosis']).T"
   ]
  },
  {
   "cell_type": "code",
   "execution_count": 32,
   "metadata": {},
   "outputs": [
    {
     "name": "stdout",
     "output_type": "stream",
     "text": [
      "            skewness\n",
      "# mean_0_a  3.837259\n",
      "mean_1_a   -5.397103\n",
      "mean_2_a   -1.768131\n",
      "mean_3_a    0.293636\n",
      "mean_4_a   -3.908617\n"
     ]
    }
   ],
   "source": [
    "print(skewness_df.head())"
   ]
  },
  {
   "cell_type": "code",
   "execution_count": 33,
   "metadata": {},
   "outputs": [],
   "source": [
    "skewness_df.index.name = None"
   ]
  },
  {
   "cell_type": "code",
   "execution_count": 34,
   "metadata": {},
   "outputs": [
    {
     "name": "stdout",
     "output_type": "stream",
     "text": [
      "            skewness\n",
      "# mean_0_a  3.837259\n",
      "mean_1_a   -5.397103\n",
      "mean_2_a   -1.768131\n",
      "mean_3_a    0.293636\n",
      "mean_4_a   -3.908617\n"
     ]
    }
   ],
   "source": [
    "print(skewness_df.head())"
   ]
  },
  {
   "cell_type": "code",
   "execution_count": 35,
   "metadata": {},
   "outputs": [],
   "source": [
    "kurtosis_values = {col: kurtosis(df[col]) for col in mean_columns + fft_columns}"
   ]
  },
  {
   "cell_type": "code",
   "execution_count": 36,
   "metadata": {},
   "outputs": [],
   "source": [
    "kurtosis_df = pd.DataFrame(kurtosis_values, index=['kurtosis']).T"
   ]
  },
  {
   "cell_type": "code",
   "execution_count": 37,
   "metadata": {},
   "outputs": [],
   "source": [
    "kurtosis_df.index.name = None\n"
   ]
  },
  {
   "cell_type": "code",
   "execution_count": 40,
   "metadata": {},
   "outputs": [
    {
     "name": "stdout",
     "output_type": "stream",
     "text": [
      "              kurtosis\n",
      "# mean_0_a   72.338276\n",
      "mean_1_a     55.492825\n",
      "mean_2_a      3.794679\n",
      "mean_3_a     15.268999\n",
      "mean_4_a    113.799014\n"
     ]
    }
   ],
   "source": [
    "print(kurtosis_df.head())"
   ]
  },
  {
   "cell_type": "code",
   "execution_count": 39,
   "metadata": {},
   "outputs": [],
   "source": [
    "df = pd.concat([df, skewness_df, kurtosis_df], axis=1)"
   ]
  },
  {
   "cell_type": "code",
   "execution_count": 41,
   "metadata": {},
   "outputs": [
    {
     "name": "stdout",
     "output_type": "stream",
     "text": [
      "   # mean_0_a  mean_1_a  mean_2_a  mean_3_a  mean_4_a  mean_d_0_a  mean_d_1_a  \\\n",
      "0        4.62      30.3    -356.0      15.6      26.3       1.070       0.411   \n",
      "1       28.80      33.1      32.0      25.8      22.8       6.550       1.680   \n",
      "2        8.90      29.4    -416.0      16.7      23.7      79.900       3.360   \n",
      "3       14.90      31.6    -143.0      19.8      24.3      -0.584      -0.284   \n",
      "4       28.30      31.3      45.2      27.3      24.5      34.800      -5.790   \n",
      "\n",
      "   mean_d_2_a  mean_d_3_a  mean_d_4_a  ...  fft_744_b  fft_745_b  fft_746_b  \\\n",
      "0      -15.70        2.06        3.15  ...       23.5     -215.0     280.00   \n",
      "1        2.88        3.83       -4.82  ...      -23.3      182.0       2.57   \n",
      "2       90.20       89.90        2.03  ...      462.0     -267.0     281.00   \n",
      "3        8.82        2.30       -1.97  ...      299.0      132.0     -12.40   \n",
      "4        3.06       41.40        5.52  ...       12.0      119.0     -17.60   \n",
      "\n",
      "   fft_747_b  fft_748_b  fft_749_b     label  emotion  skewness  kurtosis  \n",
      "0    -162.00    -162.00     280.00  NEGATIVE      1.0       NaN       NaN  \n",
      "1     -31.60     -31.60       2.57   NEUTRAL      0.0       NaN       NaN  \n",
      "2    -148.00    -148.00     281.00  POSITIVE      0.0       NaN       NaN  \n",
      "3       9.53       9.53     -12.40  POSITIVE      0.0       NaN       NaN  \n",
      "4      23.90      23.90     -17.60   NEUTRAL      0.0       NaN       NaN  \n",
      "\n",
      "[5 rows x 2552 columns]\n"
     ]
    }
   ],
   "source": [
    "print(df.head())"
   ]
  },
  {
   "cell_type": "code",
   "execution_count": 42,
   "metadata": {},
   "outputs": [],
   "source": [
    "df.drop(columns=['skewness', 'kurtosis'], inplace=True)"
   ]
  },
  {
   "cell_type": "code",
   "execution_count": 43,
   "metadata": {},
   "outputs": [
    {
     "name": "stdout",
     "output_type": "stream",
     "text": [
      "   # mean_0_a  mean_1_a  mean_2_a  mean_3_a  mean_4_a  mean_d_0_a  mean_d_1_a  \\\n",
      "0        4.62      30.3    -356.0      15.6      26.3       1.070       0.411   \n",
      "1       28.80      33.1      32.0      25.8      22.8       6.550       1.680   \n",
      "2        8.90      29.4    -416.0      16.7      23.7      79.900       3.360   \n",
      "3       14.90      31.6    -143.0      19.8      24.3      -0.584      -0.284   \n",
      "4       28.30      31.3      45.2      27.3      24.5      34.800      -5.790   \n",
      "\n",
      "   mean_d_2_a  mean_d_3_a  mean_d_4_a  ...  fft_742_b  fft_743_b  fft_744_b  \\\n",
      "0      -15.70        2.06        3.15  ...       20.3       20.3       23.5   \n",
      "1        2.88        3.83       -4.82  ...      -21.8      -21.8      -23.3   \n",
      "2       90.20       89.90        2.03  ...     -233.0     -233.0      462.0   \n",
      "3        8.82        2.30       -1.97  ...     -243.0     -243.0      299.0   \n",
      "4        3.06       41.40        5.52  ...       38.1       38.1       12.0   \n",
      "\n",
      "   fft_745_b  fft_746_b  fft_747_b  fft_748_b  fft_749_b     label  emotion  \n",
      "0     -215.0     280.00    -162.00    -162.00     280.00  NEGATIVE      1.0  \n",
      "1      182.0       2.57     -31.60     -31.60       2.57   NEUTRAL      0.0  \n",
      "2     -267.0     281.00    -148.00    -148.00     281.00  POSITIVE      0.0  \n",
      "3      132.0     -12.40       9.53       9.53     -12.40  POSITIVE      0.0  \n",
      "4      119.0     -17.60      23.90      23.90     -17.60   NEUTRAL      0.0  \n",
      "\n",
      "[5 rows x 2550 columns]\n"
     ]
    }
   ],
   "source": [
    "print(df.head())"
   ]
  },
  {
   "cell_type": "code",
   "execution_count": 44,
   "metadata": {},
   "outputs": [],
   "source": [
    "df['skewness'] = df[mean_columns + fft_columns].apply(lambda x: skew(x, axis=0), axis=1)"
   ]
  },
  {
   "cell_type": "code",
   "execution_count": 45,
   "metadata": {},
   "outputs": [],
   "source": [
    "df['kurtosis'] = df[mean_columns + fft_columns].apply(lambda x: kurtosis(x, axis=0), axis=1)"
   ]
  },
  {
   "cell_type": "code",
   "execution_count": 46,
   "metadata": {},
   "outputs": [
    {
     "name": "stdout",
     "output_type": "stream",
     "text": [
      "   # mean_0_a  mean_1_a  mean_2_a  mean_3_a  mean_4_a  mean_d_0_a  mean_d_1_a  \\\n",
      "0        4.62      30.3    -356.0      15.6      26.3       1.070       0.411   \n",
      "1       28.80      33.1      32.0      25.8      22.8       6.550       1.680   \n",
      "2        8.90      29.4    -416.0      16.7      23.7      79.900       3.360   \n",
      "3       14.90      31.6    -143.0      19.8      24.3      -0.584      -0.284   \n",
      "4       28.30      31.3      45.2      27.3      24.5      34.800      -5.790   \n",
      "\n",
      "   mean_d_2_a  mean_d_3_a  mean_d_4_a  ...  fft_744_b  fft_745_b  fft_746_b  \\\n",
      "0      -15.70        2.06        3.15  ...       23.5     -215.0     280.00   \n",
      "1        2.88        3.83       -4.82  ...      -23.3      182.0       2.57   \n",
      "2       90.20       89.90        2.03  ...      462.0     -267.0     281.00   \n",
      "3        8.82        2.30       -1.97  ...      299.0      132.0     -12.40   \n",
      "4        3.06       41.40        5.52  ...       12.0      119.0     -17.60   \n",
      "\n",
      "   fft_747_b  fft_748_b  fft_749_b     label  emotion  skewness  kurtosis  \n",
      "0    -162.00    -162.00     280.00  NEGATIVE      1.0  0.051821 -0.685324  \n",
      "1     -31.60     -31.60       2.57   NEUTRAL      0.0  1.508543  1.294228  \n",
      "2    -148.00    -148.00     281.00  POSITIVE      0.0 -0.070566 -0.015952  \n",
      "3       9.53       9.53     -12.40  POSITIVE      0.0  0.081328  1.362297  \n",
      "4      23.90      23.90     -17.60   NEUTRAL      0.0  0.802684  1.787670  \n",
      "\n",
      "[5 rows x 2552 columns]\n"
     ]
    }
   ],
   "source": [
    "print(df.head())"
   ]
  },
  {
   "cell_type": "code",
   "execution_count": 47,
   "metadata": {},
   "outputs": [],
   "source": [
    "from sklearn.model_selection import train_test_split"
   ]
  },
  {
   "cell_type": "code",
   "execution_count": 48,
   "metadata": {},
   "outputs": [],
   "source": [
    "from sklearn.ensemble import RandomForestClassifier"
   ]
  },
  {
   "cell_type": "code",
   "execution_count": 49,
   "metadata": {},
   "outputs": [],
   "source": [
    "from sklearn.preprocessing import StandardScaler, LabelEncoder"
   ]
  },
  {
   "cell_type": "code",
   "execution_count": 50,
   "metadata": {},
   "outputs": [],
   "source": [
    "from sklearn.metrics import accuracy_score, classification_report, confusion_matrix"
   ]
  },
  {
   "cell_type": "code",
   "execution_count": 59,
   "metadata": {},
   "outputs": [
    {
     "name": "stdout",
     "output_type": "stream",
     "text": [
      "Missing values in dataset:\n",
      " # mean_0_a    1620\n",
      "mean_1_a      1620\n",
      "mean_2_a      1620\n",
      "mean_3_a      1620\n",
      "mean_4_a      1620\n",
      "              ... \n",
      "fft_749_b     1620\n",
      "label         1620\n",
      "emotion       1620\n",
      "skewness      1620\n",
      "kurtosis      1620\n",
      "Length: 2552, dtype: int64\n"
     ]
    }
   ],
   "source": [
    "print(\"Missing values in dataset:\\n\", df.isnull().sum())"
   ]
  },
  {
   "cell_type": "code",
   "execution_count": 60,
   "metadata": {},
   "outputs": [
    {
     "name": "stdout",
     "output_type": "stream",
     "text": [
      "Missing values in 'emotion': 1620\n"
     ]
    }
   ],
   "source": [
    "print(\"Missing values in 'emotion':\", df['emotion'].isnull().sum())"
   ]
  },
  {
   "cell_type": "code",
   "execution_count": 61,
   "metadata": {},
   "outputs": [],
   "source": [
    "df = df.dropna(subset=['emotion'])"
   ]
  },
  {
   "cell_type": "code",
   "execution_count": 62,
   "metadata": {},
   "outputs": [
    {
     "name": "stdout",
     "output_type": "stream",
     "text": [
      "   # mean_0_a  mean_1_a  mean_2_a  mean_3_a  mean_4_a  mean_d_0_a  mean_d_1_a  \\\n",
      "0        4.62      30.3    -356.0      15.6      26.3       1.070       0.411   \n",
      "1       28.80      33.1      32.0      25.8      22.8       6.550       1.680   \n",
      "2        8.90      29.4    -416.0      16.7      23.7      79.900       3.360   \n",
      "3       14.90      31.6    -143.0      19.8      24.3      -0.584      -0.284   \n",
      "4       28.30      31.3      45.2      27.3      24.5      34.800      -5.790   \n",
      "\n",
      "   mean_d_2_a  mean_d_3_a  mean_d_4_a  ...  fft_744_b  fft_745_b  fft_746_b  \\\n",
      "0      -15.70        2.06        3.15  ...       23.5     -215.0     280.00   \n",
      "1        2.88        3.83       -4.82  ...      -23.3      182.0       2.57   \n",
      "2       90.20       89.90        2.03  ...      462.0     -267.0     281.00   \n",
      "3        8.82        2.30       -1.97  ...      299.0      132.0     -12.40   \n",
      "4        3.06       41.40        5.52  ...       12.0      119.0     -17.60   \n",
      "\n",
      "   fft_747_b  fft_748_b  fft_749_b     label  emotion  skewness  kurtosis  \n",
      "0    -162.00    -162.00     280.00  NEGATIVE      1.0  0.051821 -0.685324  \n",
      "1     -31.60     -31.60       2.57   NEUTRAL      0.0  1.508543  1.294228  \n",
      "2    -148.00    -148.00     281.00  POSITIVE      0.0 -0.070566 -0.015952  \n",
      "3       9.53       9.53     -12.40  POSITIVE      0.0  0.081328  1.362297  \n",
      "4      23.90      23.90     -17.60   NEUTRAL      0.0  0.802684  1.787670  \n",
      "\n",
      "[5 rows x 2552 columns]\n"
     ]
    }
   ],
   "source": [
    "print(df.head())"
   ]
  },
  {
   "cell_type": "code",
   "execution_count": 63,
   "metadata": {},
   "outputs": [],
   "source": [
    "label_encoder = LabelEncoder()\n",
    "df['emotion'] = label_encoder.fit_transform(df['emotion'])"
   ]
  },
  {
   "cell_type": "code",
   "execution_count": 64,
   "metadata": {},
   "outputs": [],
   "source": [
    "features = df.drop(columns=['emotion', 'label', 'skewness', 'kurtosis'])"
   ]
  },
  {
   "cell_type": "code",
   "execution_count": 65,
   "metadata": {},
   "outputs": [],
   "source": [
    "labels = df['emotion']"
   ]
  },
  {
   "cell_type": "code",
   "execution_count": 66,
   "metadata": {},
   "outputs": [],
   "source": [
    "X_train, X_test, y_train, y_test = train_test_split(features, labels, test_size=0.2, random_state=42)"
   ]
  },
  {
   "cell_type": "code",
   "execution_count": 67,
   "metadata": {},
   "outputs": [],
   "source": [
    "scaler = StandardScaler()\n",
    "X_train = scaler.fit_transform(X_train)\n",
    "X_test = scaler.transform(X_test)"
   ]
  },
  {
   "cell_type": "code",
   "execution_count": 68,
   "metadata": {},
   "outputs": [],
   "source": [
    "model = RandomForestClassifier(n_estimators=100, random_state=42)"
   ]
  },
  {
   "cell_type": "code",
   "execution_count": 69,
   "metadata": {},
   "outputs": [
    {
     "data": {
      "text/html": [
       "<style>#sk-container-id-1 {\n",
       "  /* Definition of color scheme common for light and dark mode */\n",
       "  --sklearn-color-text: black;\n",
       "  --sklearn-color-line: gray;\n",
       "  /* Definition of color scheme for unfitted estimators */\n",
       "  --sklearn-color-unfitted-level-0: #fff5e6;\n",
       "  --sklearn-color-unfitted-level-1: #f6e4d2;\n",
       "  --sklearn-color-unfitted-level-2: #ffe0b3;\n",
       "  --sklearn-color-unfitted-level-3: chocolate;\n",
       "  /* Definition of color scheme for fitted estimators */\n",
       "  --sklearn-color-fitted-level-0: #f0f8ff;\n",
       "  --sklearn-color-fitted-level-1: #d4ebff;\n",
       "  --sklearn-color-fitted-level-2: #b3dbfd;\n",
       "  --sklearn-color-fitted-level-3: cornflowerblue;\n",
       "\n",
       "  /* Specific color for light theme */\n",
       "  --sklearn-color-text-on-default-background: var(--sg-text-color, var(--theme-code-foreground, var(--jp-content-font-color1, black)));\n",
       "  --sklearn-color-background: var(--sg-background-color, var(--theme-background, var(--jp-layout-color0, white)));\n",
       "  --sklearn-color-border-box: var(--sg-text-color, var(--theme-code-foreground, var(--jp-content-font-color1, black)));\n",
       "  --sklearn-color-icon: #696969;\n",
       "\n",
       "  @media (prefers-color-scheme: dark) {\n",
       "    /* Redefinition of color scheme for dark theme */\n",
       "    --sklearn-color-text-on-default-background: var(--sg-text-color, var(--theme-code-foreground, var(--jp-content-font-color1, white)));\n",
       "    --sklearn-color-background: var(--sg-background-color, var(--theme-background, var(--jp-layout-color0, #111)));\n",
       "    --sklearn-color-border-box: var(--sg-text-color, var(--theme-code-foreground, var(--jp-content-font-color1, white)));\n",
       "    --sklearn-color-icon: #878787;\n",
       "  }\n",
       "}\n",
       "\n",
       "#sk-container-id-1 {\n",
       "  color: var(--sklearn-color-text);\n",
       "}\n",
       "\n",
       "#sk-container-id-1 pre {\n",
       "  padding: 0;\n",
       "}\n",
       "\n",
       "#sk-container-id-1 input.sk-hidden--visually {\n",
       "  border: 0;\n",
       "  clip: rect(1px 1px 1px 1px);\n",
       "  clip: rect(1px, 1px, 1px, 1px);\n",
       "  height: 1px;\n",
       "  margin: -1px;\n",
       "  overflow: hidden;\n",
       "  padding: 0;\n",
       "  position: absolute;\n",
       "  width: 1px;\n",
       "}\n",
       "\n",
       "#sk-container-id-1 div.sk-dashed-wrapped {\n",
       "  border: 1px dashed var(--sklearn-color-line);\n",
       "  margin: 0 0.4em 0.5em 0.4em;\n",
       "  box-sizing: border-box;\n",
       "  padding-bottom: 0.4em;\n",
       "  background-color: var(--sklearn-color-background);\n",
       "}\n",
       "\n",
       "#sk-container-id-1 div.sk-container {\n",
       "  /* jupyter's `normalize.less` sets `[hidden] { display: none; }`\n",
       "     but bootstrap.min.css set `[hidden] { display: none !important; }`\n",
       "     so we also need the `!important` here to be able to override the\n",
       "     default hidden behavior on the sphinx rendered scikit-learn.org.\n",
       "     See: https://github.com/scikit-learn/scikit-learn/issues/21755 */\n",
       "  display: inline-block !important;\n",
       "  position: relative;\n",
       "}\n",
       "\n",
       "#sk-container-id-1 div.sk-text-repr-fallback {\n",
       "  display: none;\n",
       "}\n",
       "\n",
       "div.sk-parallel-item,\n",
       "div.sk-serial,\n",
       "div.sk-item {\n",
       "  /* draw centered vertical line to link estimators */\n",
       "  background-image: linear-gradient(var(--sklearn-color-text-on-default-background), var(--sklearn-color-text-on-default-background));\n",
       "  background-size: 2px 100%;\n",
       "  background-repeat: no-repeat;\n",
       "  background-position: center center;\n",
       "}\n",
       "\n",
       "/* Parallel-specific style estimator block */\n",
       "\n",
       "#sk-container-id-1 div.sk-parallel-item::after {\n",
       "  content: \"\";\n",
       "  width: 100%;\n",
       "  border-bottom: 2px solid var(--sklearn-color-text-on-default-background);\n",
       "  flex-grow: 1;\n",
       "}\n",
       "\n",
       "#sk-container-id-1 div.sk-parallel {\n",
       "  display: flex;\n",
       "  align-items: stretch;\n",
       "  justify-content: center;\n",
       "  background-color: var(--sklearn-color-background);\n",
       "  position: relative;\n",
       "}\n",
       "\n",
       "#sk-container-id-1 div.sk-parallel-item {\n",
       "  display: flex;\n",
       "  flex-direction: column;\n",
       "}\n",
       "\n",
       "#sk-container-id-1 div.sk-parallel-item:first-child::after {\n",
       "  align-self: flex-end;\n",
       "  width: 50%;\n",
       "}\n",
       "\n",
       "#sk-container-id-1 div.sk-parallel-item:last-child::after {\n",
       "  align-self: flex-start;\n",
       "  width: 50%;\n",
       "}\n",
       "\n",
       "#sk-container-id-1 div.sk-parallel-item:only-child::after {\n",
       "  width: 0;\n",
       "}\n",
       "\n",
       "/* Serial-specific style estimator block */\n",
       "\n",
       "#sk-container-id-1 div.sk-serial {\n",
       "  display: flex;\n",
       "  flex-direction: column;\n",
       "  align-items: center;\n",
       "  background-color: var(--sklearn-color-background);\n",
       "  padding-right: 1em;\n",
       "  padding-left: 1em;\n",
       "}\n",
       "\n",
       "\n",
       "/* Toggleable style: style used for estimator/Pipeline/ColumnTransformer box that is\n",
       "clickable and can be expanded/collapsed.\n",
       "- Pipeline and ColumnTransformer use this feature and define the default style\n",
       "- Estimators will overwrite some part of the style using the `sk-estimator` class\n",
       "*/\n",
       "\n",
       "/* Pipeline and ColumnTransformer style (default) */\n",
       "\n",
       "#sk-container-id-1 div.sk-toggleable {\n",
       "  /* Default theme specific background. It is overwritten whether we have a\n",
       "  specific estimator or a Pipeline/ColumnTransformer */\n",
       "  background-color: var(--sklearn-color-background);\n",
       "}\n",
       "\n",
       "/* Toggleable label */\n",
       "#sk-container-id-1 label.sk-toggleable__label {\n",
       "  cursor: pointer;\n",
       "  display: block;\n",
       "  width: 100%;\n",
       "  margin-bottom: 0;\n",
       "  padding: 0.5em;\n",
       "  box-sizing: border-box;\n",
       "  text-align: center;\n",
       "}\n",
       "\n",
       "#sk-container-id-1 label.sk-toggleable__label-arrow:before {\n",
       "  /* Arrow on the left of the label */\n",
       "  content: \"▸\";\n",
       "  float: left;\n",
       "  margin-right: 0.25em;\n",
       "  color: var(--sklearn-color-icon);\n",
       "}\n",
       "\n",
       "#sk-container-id-1 label.sk-toggleable__label-arrow:hover:before {\n",
       "  color: var(--sklearn-color-text);\n",
       "}\n",
       "\n",
       "/* Toggleable content - dropdown */\n",
       "\n",
       "#sk-container-id-1 div.sk-toggleable__content {\n",
       "  max-height: 0;\n",
       "  max-width: 0;\n",
       "  overflow: hidden;\n",
       "  text-align: left;\n",
       "  /* unfitted */\n",
       "  background-color: var(--sklearn-color-unfitted-level-0);\n",
       "}\n",
       "\n",
       "#sk-container-id-1 div.sk-toggleable__content.fitted {\n",
       "  /* fitted */\n",
       "  background-color: var(--sklearn-color-fitted-level-0);\n",
       "}\n",
       "\n",
       "#sk-container-id-1 div.sk-toggleable__content pre {\n",
       "  margin: 0.2em;\n",
       "  border-radius: 0.25em;\n",
       "  color: var(--sklearn-color-text);\n",
       "  /* unfitted */\n",
       "  background-color: var(--sklearn-color-unfitted-level-0);\n",
       "}\n",
       "\n",
       "#sk-container-id-1 div.sk-toggleable__content.fitted pre {\n",
       "  /* unfitted */\n",
       "  background-color: var(--sklearn-color-fitted-level-0);\n",
       "}\n",
       "\n",
       "#sk-container-id-1 input.sk-toggleable__control:checked~div.sk-toggleable__content {\n",
       "  /* Expand drop-down */\n",
       "  max-height: 200px;\n",
       "  max-width: 100%;\n",
       "  overflow: auto;\n",
       "}\n",
       "\n",
       "#sk-container-id-1 input.sk-toggleable__control:checked~label.sk-toggleable__label-arrow:before {\n",
       "  content: \"▾\";\n",
       "}\n",
       "\n",
       "/* Pipeline/ColumnTransformer-specific style */\n",
       "\n",
       "#sk-container-id-1 div.sk-label input.sk-toggleable__control:checked~label.sk-toggleable__label {\n",
       "  color: var(--sklearn-color-text);\n",
       "  background-color: var(--sklearn-color-unfitted-level-2);\n",
       "}\n",
       "\n",
       "#sk-container-id-1 div.sk-label.fitted input.sk-toggleable__control:checked~label.sk-toggleable__label {\n",
       "  background-color: var(--sklearn-color-fitted-level-2);\n",
       "}\n",
       "\n",
       "/* Estimator-specific style */\n",
       "\n",
       "/* Colorize estimator box */\n",
       "#sk-container-id-1 div.sk-estimator input.sk-toggleable__control:checked~label.sk-toggleable__label {\n",
       "  /* unfitted */\n",
       "  background-color: var(--sklearn-color-unfitted-level-2);\n",
       "}\n",
       "\n",
       "#sk-container-id-1 div.sk-estimator.fitted input.sk-toggleable__control:checked~label.sk-toggleable__label {\n",
       "  /* fitted */\n",
       "  background-color: var(--sklearn-color-fitted-level-2);\n",
       "}\n",
       "\n",
       "#sk-container-id-1 div.sk-label label.sk-toggleable__label,\n",
       "#sk-container-id-1 div.sk-label label {\n",
       "  /* The background is the default theme color */\n",
       "  color: var(--sklearn-color-text-on-default-background);\n",
       "}\n",
       "\n",
       "/* On hover, darken the color of the background */\n",
       "#sk-container-id-1 div.sk-label:hover label.sk-toggleable__label {\n",
       "  color: var(--sklearn-color-text);\n",
       "  background-color: var(--sklearn-color-unfitted-level-2);\n",
       "}\n",
       "\n",
       "/* Label box, darken color on hover, fitted */\n",
       "#sk-container-id-1 div.sk-label.fitted:hover label.sk-toggleable__label.fitted {\n",
       "  color: var(--sklearn-color-text);\n",
       "  background-color: var(--sklearn-color-fitted-level-2);\n",
       "}\n",
       "\n",
       "/* Estimator label */\n",
       "\n",
       "#sk-container-id-1 div.sk-label label {\n",
       "  font-family: monospace;\n",
       "  font-weight: bold;\n",
       "  display: inline-block;\n",
       "  line-height: 1.2em;\n",
       "}\n",
       "\n",
       "#sk-container-id-1 div.sk-label-container {\n",
       "  text-align: center;\n",
       "}\n",
       "\n",
       "/* Estimator-specific */\n",
       "#sk-container-id-1 div.sk-estimator {\n",
       "  font-family: monospace;\n",
       "  border: 1px dotted var(--sklearn-color-border-box);\n",
       "  border-radius: 0.25em;\n",
       "  box-sizing: border-box;\n",
       "  margin-bottom: 0.5em;\n",
       "  /* unfitted */\n",
       "  background-color: var(--sklearn-color-unfitted-level-0);\n",
       "}\n",
       "\n",
       "#sk-container-id-1 div.sk-estimator.fitted {\n",
       "  /* fitted */\n",
       "  background-color: var(--sklearn-color-fitted-level-0);\n",
       "}\n",
       "\n",
       "/* on hover */\n",
       "#sk-container-id-1 div.sk-estimator:hover {\n",
       "  /* unfitted */\n",
       "  background-color: var(--sklearn-color-unfitted-level-2);\n",
       "}\n",
       "\n",
       "#sk-container-id-1 div.sk-estimator.fitted:hover {\n",
       "  /* fitted */\n",
       "  background-color: var(--sklearn-color-fitted-level-2);\n",
       "}\n",
       "\n",
       "/* Specification for estimator info (e.g. \"i\" and \"?\") */\n",
       "\n",
       "/* Common style for \"i\" and \"?\" */\n",
       "\n",
       ".sk-estimator-doc-link,\n",
       "a:link.sk-estimator-doc-link,\n",
       "a:visited.sk-estimator-doc-link {\n",
       "  float: right;\n",
       "  font-size: smaller;\n",
       "  line-height: 1em;\n",
       "  font-family: monospace;\n",
       "  background-color: var(--sklearn-color-background);\n",
       "  border-radius: 1em;\n",
       "  height: 1em;\n",
       "  width: 1em;\n",
       "  text-decoration: none !important;\n",
       "  margin-left: 1ex;\n",
       "  /* unfitted */\n",
       "  border: var(--sklearn-color-unfitted-level-1) 1pt solid;\n",
       "  color: var(--sklearn-color-unfitted-level-1);\n",
       "}\n",
       "\n",
       ".sk-estimator-doc-link.fitted,\n",
       "a:link.sk-estimator-doc-link.fitted,\n",
       "a:visited.sk-estimator-doc-link.fitted {\n",
       "  /* fitted */\n",
       "  border: var(--sklearn-color-fitted-level-1) 1pt solid;\n",
       "  color: var(--sklearn-color-fitted-level-1);\n",
       "}\n",
       "\n",
       "/* On hover */\n",
       "div.sk-estimator:hover .sk-estimator-doc-link:hover,\n",
       ".sk-estimator-doc-link:hover,\n",
       "div.sk-label-container:hover .sk-estimator-doc-link:hover,\n",
       ".sk-estimator-doc-link:hover {\n",
       "  /* unfitted */\n",
       "  background-color: var(--sklearn-color-unfitted-level-3);\n",
       "  color: var(--sklearn-color-background);\n",
       "  text-decoration: none;\n",
       "}\n",
       "\n",
       "div.sk-estimator.fitted:hover .sk-estimator-doc-link.fitted:hover,\n",
       ".sk-estimator-doc-link.fitted:hover,\n",
       "div.sk-label-container:hover .sk-estimator-doc-link.fitted:hover,\n",
       ".sk-estimator-doc-link.fitted:hover {\n",
       "  /* fitted */\n",
       "  background-color: var(--sklearn-color-fitted-level-3);\n",
       "  color: var(--sklearn-color-background);\n",
       "  text-decoration: none;\n",
       "}\n",
       "\n",
       "/* Span, style for the box shown on hovering the info icon */\n",
       ".sk-estimator-doc-link span {\n",
       "  display: none;\n",
       "  z-index: 9999;\n",
       "  position: relative;\n",
       "  font-weight: normal;\n",
       "  right: .2ex;\n",
       "  padding: .5ex;\n",
       "  margin: .5ex;\n",
       "  width: min-content;\n",
       "  min-width: 20ex;\n",
       "  max-width: 50ex;\n",
       "  color: var(--sklearn-color-text);\n",
       "  box-shadow: 2pt 2pt 4pt #999;\n",
       "  /* unfitted */\n",
       "  background: var(--sklearn-color-unfitted-level-0);\n",
       "  border: .5pt solid var(--sklearn-color-unfitted-level-3);\n",
       "}\n",
       "\n",
       ".sk-estimator-doc-link.fitted span {\n",
       "  /* fitted */\n",
       "  background: var(--sklearn-color-fitted-level-0);\n",
       "  border: var(--sklearn-color-fitted-level-3);\n",
       "}\n",
       "\n",
       ".sk-estimator-doc-link:hover span {\n",
       "  display: block;\n",
       "}\n",
       "\n",
       "/* \"?\"-specific style due to the `<a>` HTML tag */\n",
       "\n",
       "#sk-container-id-1 a.estimator_doc_link {\n",
       "  float: right;\n",
       "  font-size: 1rem;\n",
       "  line-height: 1em;\n",
       "  font-family: monospace;\n",
       "  background-color: var(--sklearn-color-background);\n",
       "  border-radius: 1rem;\n",
       "  height: 1rem;\n",
       "  width: 1rem;\n",
       "  text-decoration: none;\n",
       "  /* unfitted */\n",
       "  color: var(--sklearn-color-unfitted-level-1);\n",
       "  border: var(--sklearn-color-unfitted-level-1) 1pt solid;\n",
       "}\n",
       "\n",
       "#sk-container-id-1 a.estimator_doc_link.fitted {\n",
       "  /* fitted */\n",
       "  border: var(--sklearn-color-fitted-level-1) 1pt solid;\n",
       "  color: var(--sklearn-color-fitted-level-1);\n",
       "}\n",
       "\n",
       "/* On hover */\n",
       "#sk-container-id-1 a.estimator_doc_link:hover {\n",
       "  /* unfitted */\n",
       "  background-color: var(--sklearn-color-unfitted-level-3);\n",
       "  color: var(--sklearn-color-background);\n",
       "  text-decoration: none;\n",
       "}\n",
       "\n",
       "#sk-container-id-1 a.estimator_doc_link.fitted:hover {\n",
       "  /* fitted */\n",
       "  background-color: var(--sklearn-color-fitted-level-3);\n",
       "}\n",
       "</style><div id=\"sk-container-id-1\" class=\"sk-top-container\"><div class=\"sk-text-repr-fallback\"><pre>RandomForestClassifier(random_state=42)</pre><b>In a Jupyter environment, please rerun this cell to show the HTML representation or trust the notebook. <br />On GitHub, the HTML representation is unable to render, please try loading this page with nbviewer.org.</b></div><div class=\"sk-container\" hidden><div class=\"sk-item\"><div class=\"sk-estimator fitted sk-toggleable\"><input class=\"sk-toggleable__control sk-hidden--visually\" id=\"sk-estimator-id-1\" type=\"checkbox\" checked><label for=\"sk-estimator-id-1\" class=\"sk-toggleable__label fitted sk-toggleable__label-arrow fitted\">&nbsp;&nbsp;RandomForestClassifier<a class=\"sk-estimator-doc-link fitted\" rel=\"noreferrer\" target=\"_blank\" href=\"https://scikit-learn.org/1.5/modules/generated/sklearn.ensemble.RandomForestClassifier.html\">?<span>Documentation for RandomForestClassifier</span></a><span class=\"sk-estimator-doc-link fitted\">i<span>Fitted</span></span></label><div class=\"sk-toggleable__content fitted\"><pre>RandomForestClassifier(random_state=42)</pre></div> </div></div></div></div>"
      ],
      "text/plain": [
       "RandomForestClassifier(random_state=42)"
      ]
     },
     "execution_count": 69,
     "metadata": {},
     "output_type": "execute_result"
    }
   ],
   "source": [
    "model.fit(X_train, y_train)"
   ]
  },
  {
   "cell_type": "code",
   "execution_count": 70,
   "metadata": {},
   "outputs": [],
   "source": [
    "y_pred = model.predict(X_test)"
   ]
  },
  {
   "cell_type": "code",
   "execution_count": 71,
   "metadata": {},
   "outputs": [
    {
     "name": "stdout",
     "output_type": "stream",
     "text": [
      "Accuracy: 0.990632318501171\n"
     ]
    }
   ],
   "source": [
    "print(\"Accuracy:\", accuracy_score(y_test, y_pred))"
   ]
  },
  {
   "cell_type": "code",
   "execution_count": 72,
   "metadata": {},
   "outputs": [
    {
     "name": "stdout",
     "output_type": "stream",
     "text": [
      "Classification Report:\n",
      "               precision    recall  f1-score   support\n",
      "\n",
      "           0       1.00      0.99      0.99       284\n",
      "           1       0.98      0.99      0.99       143\n",
      "\n",
      "    accuracy                           0.99       427\n",
      "   macro avg       0.99      0.99      0.99       427\n",
      "weighted avg       0.99      0.99      0.99       427\n",
      "\n"
     ]
    }
   ],
   "source": [
    "print(\"Classification Report:\\n\", classification_report(y_test, y_pred))"
   ]
  },
  {
   "cell_type": "code",
   "execution_count": 73,
   "metadata": {},
   "outputs": [
    {
     "name": "stdout",
     "output_type": "stream",
     "text": [
      "Confusion Matrix:\n",
      " [[281   3]\n",
      " [  1 142]]\n"
     ]
    }
   ],
   "source": [
    "print(\"Confusion Matrix:\\n\", confusion_matrix(y_test, y_pred))"
   ]
  },
  {
   "cell_type": "code",
   "execution_count": 95,
   "metadata": {},
   "outputs": [
    {
     "data": {
      "text/html": [
       "<div>\n",
       "<style scoped>\n",
       "    .dataframe tbody tr th:only-of-type {\n",
       "        vertical-align: middle;\n",
       "    }\n",
       "\n",
       "    .dataframe tbody tr th {\n",
       "        vertical-align: top;\n",
       "    }\n",
       "\n",
       "    .dataframe thead th {\n",
       "        text-align: right;\n",
       "    }\n",
       "</style>\n",
       "<table border=\"1\" class=\"dataframe\">\n",
       "  <thead>\n",
       "    <tr style=\"text-align: right;\">\n",
       "      <th></th>\n",
       "      <th># mean_0_a</th>\n",
       "      <th>mean_1_a</th>\n",
       "      <th>mean_2_a</th>\n",
       "      <th>mean_3_a</th>\n",
       "      <th>mean_4_a</th>\n",
       "      <th>mean_d_0_a</th>\n",
       "      <th>mean_d_1_a</th>\n",
       "      <th>mean_d_2_a</th>\n",
       "      <th>mean_d_3_a</th>\n",
       "      <th>mean_d_4_a</th>\n",
       "      <th>...</th>\n",
       "      <th>fft_745_b</th>\n",
       "      <th>fft_746_b</th>\n",
       "      <th>fft_747_b</th>\n",
       "      <th>fft_748_b</th>\n",
       "      <th>fft_749_b</th>\n",
       "      <th>label</th>\n",
       "      <th>emotion</th>\n",
       "      <th>skewness</th>\n",
       "      <th>kurtosis</th>\n",
       "      <th>mean_columns</th>\n",
       "    </tr>\n",
       "  </thead>\n",
       "  <tbody>\n",
       "    <tr>\n",
       "      <th>0</th>\n",
       "      <td>4.62</td>\n",
       "      <td>30.3</td>\n",
       "      <td>-356.0</td>\n",
       "      <td>15.6</td>\n",
       "      <td>26.3</td>\n",
       "      <td>1.070</td>\n",
       "      <td>0.411</td>\n",
       "      <td>-15.70</td>\n",
       "      <td>2.06</td>\n",
       "      <td>3.15</td>\n",
       "      <td>...</td>\n",
       "      <td>-215.0</td>\n",
       "      <td>280.00</td>\n",
       "      <td>-162.00</td>\n",
       "      <td>-162.00</td>\n",
       "      <td>280.00</td>\n",
       "      <td>NEGATIVE</td>\n",
       "      <td>1</td>\n",
       "      <td>0.051821</td>\n",
       "      <td>-0.685324</td>\n",
       "      <td>[# mean_0_a, mean_1_a, mean_2_a, mean_3_a, mea...</td>\n",
       "    </tr>\n",
       "    <tr>\n",
       "      <th>1</th>\n",
       "      <td>28.80</td>\n",
       "      <td>33.1</td>\n",
       "      <td>32.0</td>\n",
       "      <td>25.8</td>\n",
       "      <td>22.8</td>\n",
       "      <td>6.550</td>\n",
       "      <td>1.680</td>\n",
       "      <td>2.88</td>\n",
       "      <td>3.83</td>\n",
       "      <td>-4.82</td>\n",
       "      <td>...</td>\n",
       "      <td>182.0</td>\n",
       "      <td>2.57</td>\n",
       "      <td>-31.60</td>\n",
       "      <td>-31.60</td>\n",
       "      <td>2.57</td>\n",
       "      <td>NEUTRAL</td>\n",
       "      <td>0</td>\n",
       "      <td>1.508543</td>\n",
       "      <td>1.294228</td>\n",
       "      <td>[# mean_0_a, mean_1_a, mean_2_a, mean_3_a, mea...</td>\n",
       "    </tr>\n",
       "    <tr>\n",
       "      <th>2</th>\n",
       "      <td>8.90</td>\n",
       "      <td>29.4</td>\n",
       "      <td>-416.0</td>\n",
       "      <td>16.7</td>\n",
       "      <td>23.7</td>\n",
       "      <td>79.900</td>\n",
       "      <td>3.360</td>\n",
       "      <td>90.20</td>\n",
       "      <td>89.90</td>\n",
       "      <td>2.03</td>\n",
       "      <td>...</td>\n",
       "      <td>-267.0</td>\n",
       "      <td>281.00</td>\n",
       "      <td>-148.00</td>\n",
       "      <td>-148.00</td>\n",
       "      <td>281.00</td>\n",
       "      <td>POSITIVE</td>\n",
       "      <td>0</td>\n",
       "      <td>-0.070566</td>\n",
       "      <td>-0.015952</td>\n",
       "      <td>[# mean_0_a, mean_1_a, mean_2_a, mean_3_a, mea...</td>\n",
       "    </tr>\n",
       "    <tr>\n",
       "      <th>3</th>\n",
       "      <td>14.90</td>\n",
       "      <td>31.6</td>\n",
       "      <td>-143.0</td>\n",
       "      <td>19.8</td>\n",
       "      <td>24.3</td>\n",
       "      <td>-0.584</td>\n",
       "      <td>-0.284</td>\n",
       "      <td>8.82</td>\n",
       "      <td>2.30</td>\n",
       "      <td>-1.97</td>\n",
       "      <td>...</td>\n",
       "      <td>132.0</td>\n",
       "      <td>-12.40</td>\n",
       "      <td>9.53</td>\n",
       "      <td>9.53</td>\n",
       "      <td>-12.40</td>\n",
       "      <td>POSITIVE</td>\n",
       "      <td>0</td>\n",
       "      <td>0.081328</td>\n",
       "      <td>1.362297</td>\n",
       "      <td>[# mean_0_a, mean_1_a, mean_2_a, mean_3_a, mea...</td>\n",
       "    </tr>\n",
       "    <tr>\n",
       "      <th>4</th>\n",
       "      <td>28.30</td>\n",
       "      <td>31.3</td>\n",
       "      <td>45.2</td>\n",
       "      <td>27.3</td>\n",
       "      <td>24.5</td>\n",
       "      <td>34.800</td>\n",
       "      <td>-5.790</td>\n",
       "      <td>3.06</td>\n",
       "      <td>41.40</td>\n",
       "      <td>5.52</td>\n",
       "      <td>...</td>\n",
       "      <td>119.0</td>\n",
       "      <td>-17.60</td>\n",
       "      <td>23.90</td>\n",
       "      <td>23.90</td>\n",
       "      <td>-17.60</td>\n",
       "      <td>NEUTRAL</td>\n",
       "      <td>0</td>\n",
       "      <td>0.802684</td>\n",
       "      <td>1.787670</td>\n",
       "      <td>[# mean_0_a, mean_1_a, mean_2_a, mean_3_a, mea...</td>\n",
       "    </tr>\n",
       "  </tbody>\n",
       "</table>\n",
       "<p>5 rows × 2553 columns</p>\n",
       "</div>"
      ],
      "text/plain": [
       "   # mean_0_a  mean_1_a  mean_2_a  mean_3_a  mean_4_a  mean_d_0_a  mean_d_1_a  \\\n",
       "0        4.62      30.3    -356.0      15.6      26.3       1.070       0.411   \n",
       "1       28.80      33.1      32.0      25.8      22.8       6.550       1.680   \n",
       "2        8.90      29.4    -416.0      16.7      23.7      79.900       3.360   \n",
       "3       14.90      31.6    -143.0      19.8      24.3      -0.584      -0.284   \n",
       "4       28.30      31.3      45.2      27.3      24.5      34.800      -5.790   \n",
       "\n",
       "   mean_d_2_a  mean_d_3_a  mean_d_4_a  ...  fft_745_b  fft_746_b  fft_747_b  \\\n",
       "0      -15.70        2.06        3.15  ...     -215.0     280.00    -162.00   \n",
       "1        2.88        3.83       -4.82  ...      182.0       2.57     -31.60   \n",
       "2       90.20       89.90        2.03  ...     -267.0     281.00    -148.00   \n",
       "3        8.82        2.30       -1.97  ...      132.0     -12.40       9.53   \n",
       "4        3.06       41.40        5.52  ...      119.0     -17.60      23.90   \n",
       "\n",
       "   fft_748_b  fft_749_b     label  emotion  skewness  kurtosis  \\\n",
       "0    -162.00     280.00  NEGATIVE        1  0.051821 -0.685324   \n",
       "1     -31.60       2.57   NEUTRAL        0  1.508543  1.294228   \n",
       "2    -148.00     281.00  POSITIVE        0 -0.070566 -0.015952   \n",
       "3       9.53     -12.40  POSITIVE        0  0.081328  1.362297   \n",
       "4      23.90     -17.60   NEUTRAL        0  0.802684  1.787670   \n",
       "\n",
       "                                        mean_columns  \n",
       "0  [# mean_0_a, mean_1_a, mean_2_a, mean_3_a, mea...  \n",
       "1  [# mean_0_a, mean_1_a, mean_2_a, mean_3_a, mea...  \n",
       "2  [# mean_0_a, mean_1_a, mean_2_a, mean_3_a, mea...  \n",
       "3  [# mean_0_a, mean_1_a, mean_2_a, mean_3_a, mea...  \n",
       "4  [# mean_0_a, mean_1_a, mean_2_a, mean_3_a, mea...  \n",
       "\n",
       "[5 rows x 2553 columns]"
      ]
     },
     "execution_count": 95,
     "metadata": {},
     "output_type": "execute_result"
    }
   ],
   "source": [
    "df.head()"
   ]
  },
  {
   "cell_type": "code",
   "execution_count": 97,
   "metadata": {},
   "outputs": [
    {
     "data": {
      "text/html": [
       "<div>\n",
       "<style scoped>\n",
       "    .dataframe tbody tr th:only-of-type {\n",
       "        vertical-align: middle;\n",
       "    }\n",
       "\n",
       "    .dataframe tbody tr th {\n",
       "        vertical-align: top;\n",
       "    }\n",
       "\n",
       "    .dataframe thead th {\n",
       "        text-align: right;\n",
       "    }\n",
       "</style>\n",
       "<table border=\"1\" class=\"dataframe\">\n",
       "  <thead>\n",
       "    <tr style=\"text-align: right;\">\n",
       "      <th></th>\n",
       "      <th># mean_0_a</th>\n",
       "      <th>mean_1_a</th>\n",
       "      <th>mean_2_a</th>\n",
       "      <th>mean_3_a</th>\n",
       "      <th>mean_4_a</th>\n",
       "      <th>mean_d_0_a</th>\n",
       "      <th>mean_d_1_a</th>\n",
       "      <th>mean_d_2_a</th>\n",
       "      <th>mean_d_3_a</th>\n",
       "      <th>mean_d_4_a</th>\n",
       "      <th>...</th>\n",
       "      <th>fft_744_b</th>\n",
       "      <th>fft_745_b</th>\n",
       "      <th>fft_746_b</th>\n",
       "      <th>fft_747_b</th>\n",
       "      <th>fft_748_b</th>\n",
       "      <th>fft_749_b</th>\n",
       "      <th>label</th>\n",
       "      <th>emotion</th>\n",
       "      <th>skewness</th>\n",
       "      <th>kurtosis</th>\n",
       "    </tr>\n",
       "  </thead>\n",
       "  <tbody>\n",
       "    <tr>\n",
       "      <th>0</th>\n",
       "      <td>4.62</td>\n",
       "      <td>30.3</td>\n",
       "      <td>-356.0</td>\n",
       "      <td>15.6</td>\n",
       "      <td>26.3</td>\n",
       "      <td>1.070</td>\n",
       "      <td>0.411</td>\n",
       "      <td>-15.70</td>\n",
       "      <td>2.06</td>\n",
       "      <td>3.15</td>\n",
       "      <td>...</td>\n",
       "      <td>23.5</td>\n",
       "      <td>-215.0</td>\n",
       "      <td>280.00</td>\n",
       "      <td>-162.00</td>\n",
       "      <td>-162.00</td>\n",
       "      <td>280.00</td>\n",
       "      <td>NEGATIVE</td>\n",
       "      <td>1</td>\n",
       "      <td>0.051821</td>\n",
       "      <td>-0.685324</td>\n",
       "    </tr>\n",
       "    <tr>\n",
       "      <th>1</th>\n",
       "      <td>28.80</td>\n",
       "      <td>33.1</td>\n",
       "      <td>32.0</td>\n",
       "      <td>25.8</td>\n",
       "      <td>22.8</td>\n",
       "      <td>6.550</td>\n",
       "      <td>1.680</td>\n",
       "      <td>2.88</td>\n",
       "      <td>3.83</td>\n",
       "      <td>-4.82</td>\n",
       "      <td>...</td>\n",
       "      <td>-23.3</td>\n",
       "      <td>182.0</td>\n",
       "      <td>2.57</td>\n",
       "      <td>-31.60</td>\n",
       "      <td>-31.60</td>\n",
       "      <td>2.57</td>\n",
       "      <td>NEUTRAL</td>\n",
       "      <td>0</td>\n",
       "      <td>1.508543</td>\n",
       "      <td>1.294228</td>\n",
       "    </tr>\n",
       "    <tr>\n",
       "      <th>2</th>\n",
       "      <td>8.90</td>\n",
       "      <td>29.4</td>\n",
       "      <td>-416.0</td>\n",
       "      <td>16.7</td>\n",
       "      <td>23.7</td>\n",
       "      <td>79.900</td>\n",
       "      <td>3.360</td>\n",
       "      <td>90.20</td>\n",
       "      <td>89.90</td>\n",
       "      <td>2.03</td>\n",
       "      <td>...</td>\n",
       "      <td>462.0</td>\n",
       "      <td>-267.0</td>\n",
       "      <td>281.00</td>\n",
       "      <td>-148.00</td>\n",
       "      <td>-148.00</td>\n",
       "      <td>281.00</td>\n",
       "      <td>POSITIVE</td>\n",
       "      <td>0</td>\n",
       "      <td>-0.070566</td>\n",
       "      <td>-0.015952</td>\n",
       "    </tr>\n",
       "    <tr>\n",
       "      <th>3</th>\n",
       "      <td>14.90</td>\n",
       "      <td>31.6</td>\n",
       "      <td>-143.0</td>\n",
       "      <td>19.8</td>\n",
       "      <td>24.3</td>\n",
       "      <td>-0.584</td>\n",
       "      <td>-0.284</td>\n",
       "      <td>8.82</td>\n",
       "      <td>2.30</td>\n",
       "      <td>-1.97</td>\n",
       "      <td>...</td>\n",
       "      <td>299.0</td>\n",
       "      <td>132.0</td>\n",
       "      <td>-12.40</td>\n",
       "      <td>9.53</td>\n",
       "      <td>9.53</td>\n",
       "      <td>-12.40</td>\n",
       "      <td>POSITIVE</td>\n",
       "      <td>0</td>\n",
       "      <td>0.081328</td>\n",
       "      <td>1.362297</td>\n",
       "    </tr>\n",
       "    <tr>\n",
       "      <th>4</th>\n",
       "      <td>28.30</td>\n",
       "      <td>31.3</td>\n",
       "      <td>45.2</td>\n",
       "      <td>27.3</td>\n",
       "      <td>24.5</td>\n",
       "      <td>34.800</td>\n",
       "      <td>-5.790</td>\n",
       "      <td>3.06</td>\n",
       "      <td>41.40</td>\n",
       "      <td>5.52</td>\n",
       "      <td>...</td>\n",
       "      <td>12.0</td>\n",
       "      <td>119.0</td>\n",
       "      <td>-17.60</td>\n",
       "      <td>23.90</td>\n",
       "      <td>23.90</td>\n",
       "      <td>-17.60</td>\n",
       "      <td>NEUTRAL</td>\n",
       "      <td>0</td>\n",
       "      <td>0.802684</td>\n",
       "      <td>1.787670</td>\n",
       "    </tr>\n",
       "  </tbody>\n",
       "</table>\n",
       "<p>5 rows × 2552 columns</p>\n",
       "</div>"
      ],
      "text/plain": [
       "   # mean_0_a  mean_1_a  mean_2_a  mean_3_a  mean_4_a  mean_d_0_a  mean_d_1_a  \\\n",
       "0        4.62      30.3    -356.0      15.6      26.3       1.070       0.411   \n",
       "1       28.80      33.1      32.0      25.8      22.8       6.550       1.680   \n",
       "2        8.90      29.4    -416.0      16.7      23.7      79.900       3.360   \n",
       "3       14.90      31.6    -143.0      19.8      24.3      -0.584      -0.284   \n",
       "4       28.30      31.3      45.2      27.3      24.5      34.800      -5.790   \n",
       "\n",
       "   mean_d_2_a  mean_d_3_a  mean_d_4_a  ...  fft_744_b  fft_745_b  fft_746_b  \\\n",
       "0      -15.70        2.06        3.15  ...       23.5     -215.0     280.00   \n",
       "1        2.88        3.83       -4.82  ...      -23.3      182.0       2.57   \n",
       "2       90.20       89.90        2.03  ...      462.0     -267.0     281.00   \n",
       "3        8.82        2.30       -1.97  ...      299.0      132.0     -12.40   \n",
       "4        3.06       41.40        5.52  ...       12.0      119.0     -17.60   \n",
       "\n",
       "   fft_747_b  fft_748_b  fft_749_b     label  emotion  skewness  kurtosis  \n",
       "0    -162.00    -162.00     280.00  NEGATIVE        1  0.051821 -0.685324  \n",
       "1     -31.60     -31.60       2.57   NEUTRAL        0  1.508543  1.294228  \n",
       "2    -148.00    -148.00     281.00  POSITIVE        0 -0.070566 -0.015952  \n",
       "3       9.53       9.53     -12.40  POSITIVE        0  0.081328  1.362297  \n",
       "4      23.90      23.90     -17.60   NEUTRAL        0  0.802684  1.787670  \n",
       "\n",
       "[5 rows x 2552 columns]"
      ]
     },
     "execution_count": 97,
     "metadata": {},
     "output_type": "execute_result"
    }
   ],
   "source": [
    "df.head()"
   ]
  },
  {
   "cell_type": "code",
   "execution_count": 98,
   "metadata": {},
   "outputs": [],
   "source": [
    "import joblib"
   ]
  },
  {
   "cell_type": "code",
   "execution_count": 102,
   "metadata": {},
   "outputs": [
    {
     "data": {
      "text/plain": [
       "['random_forest_stress_model.pkl']"
      ]
     },
     "execution_count": 102,
     "metadata": {},
     "output_type": "execute_result"
    }
   ],
   "source": [
    "joblib.dump(model, 'random_forest_stress_model.pkl')"
   ]
  },
  {
   "cell_type": "code",
   "execution_count": 106,
   "metadata": {},
   "outputs": [
    {
     "data": {
      "text/plain": [
       "['scaler.pkl']"
      ]
     },
     "execution_count": 106,
     "metadata": {},
     "output_type": "execute_result"
    }
   ],
   "source": [
    "joblib.dump(scaler, 'scaler.pkl')"
   ]
  },
  {
   "cell_type": "code",
   "execution_count": null,
   "metadata": {},
   "outputs": [],
   "source": []
  }
 ],
 "metadata": {
  "kernelspec": {
   "display_name": "Python 3",
   "language": "python",
   "name": "python3"
  },
  "language_info": {
   "codemirror_mode": {
    "name": "ipython",
    "version": 3
   },
   "file_extension": ".py",
   "mimetype": "text/x-python",
   "name": "python",
   "nbconvert_exporter": "python",
   "pygments_lexer": "ipython3",
   "version": "3.12.4"
  }
 },
 "nbformat": 4,
 "nbformat_minor": 2
}
